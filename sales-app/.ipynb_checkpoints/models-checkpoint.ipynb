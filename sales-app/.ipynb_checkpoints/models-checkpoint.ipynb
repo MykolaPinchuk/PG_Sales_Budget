{
 "cells": [
  {
   "cell_type": "code",
   "execution_count": 75,
   "id": "18c39096-2b71-495b-a6cc-77a42b88aa28",
   "metadata": {},
   "outputs": [
    {
     "data": {
      "text/plain": [
       "(200, 4)"
      ]
     },
     "metadata": {},
     "output_type": "display_data"
    },
    {
     "data": {
      "text/html": [
       "<div>\n",
       "<style scoped>\n",
       "    .dataframe tbody tr th:only-of-type {\n",
       "        vertical-align: middle;\n",
       "    }\n",
       "\n",
       "    .dataframe tbody tr th {\n",
       "        vertical-align: top;\n",
       "    }\n",
       "\n",
       "    .dataframe thead th {\n",
       "        text-align: right;\n",
       "    }\n",
       "</style>\n",
       "<table border=\"1\" class=\"dataframe\">\n",
       "  <thead>\n",
       "    <tr style=\"text-align: right;\">\n",
       "      <th></th>\n",
       "      <th>TV</th>\n",
       "      <th>Radio</th>\n",
       "      <th>Newspaper</th>\n",
       "      <th>Sales</th>\n",
       "    </tr>\n",
       "  </thead>\n",
       "  <tbody>\n",
       "    <tr>\n",
       "      <th>1</th>\n",
       "      <td>230.1</td>\n",
       "      <td>37.8</td>\n",
       "      <td>69.2</td>\n",
       "      <td>22.1</td>\n",
       "    </tr>\n",
       "    <tr>\n",
       "      <th>2</th>\n",
       "      <td>44.5</td>\n",
       "      <td>39.3</td>\n",
       "      <td>45.1</td>\n",
       "      <td>10.4</td>\n",
       "    </tr>\n",
       "    <tr>\n",
       "      <th>3</th>\n",
       "      <td>17.2</td>\n",
       "      <td>45.9</td>\n",
       "      <td>69.3</td>\n",
       "      <td>9.3</td>\n",
       "    </tr>\n",
       "    <tr>\n",
       "      <th>4</th>\n",
       "      <td>151.5</td>\n",
       "      <td>41.3</td>\n",
       "      <td>58.5</td>\n",
       "      <td>18.5</td>\n",
       "    </tr>\n",
       "    <tr>\n",
       "      <th>5</th>\n",
       "      <td>180.8</td>\n",
       "      <td>10.8</td>\n",
       "      <td>58.4</td>\n",
       "      <td>12.9</td>\n",
       "    </tr>\n",
       "  </tbody>\n",
       "</table>\n",
       "</div>"
      ],
      "text/plain": [
       "      TV  Radio  Newspaper  Sales\n",
       "1  230.1   37.8       69.2   22.1\n",
       "2   44.5   39.3       45.1   10.4\n",
       "3   17.2   45.9       69.3    9.3\n",
       "4  151.5   41.3       58.5   18.5\n",
       "5  180.8   10.8       58.4   12.9"
      ]
     },
     "metadata": {},
     "output_type": "display_data"
    }
   ],
   "source": [
    "import os\n",
    "import joblib\n",
    "import pickle\n",
    "import pandas as pd\n",
    "import numpy as np\n",
    "from sklearn.linear_model import LinearRegression\n",
    "from sklearn.model_selection import train_test_split\n",
    "from sklearn.metrics import r2_score, mean_squared_error\n",
    "from google.cloud import bigquery, storage\n",
    "from xgboost import XGBRegressor\n",
    "\n",
    "os.chdir('/home/jupyter/projects_data/sales_budget')\n",
    "\n",
    "project_id = 'valid-heuristic-369117'\n",
    "\n",
    "df = pd.read_csv('Advertising.csv', index_col=[0])\n",
    "display(df.shape, df.head())"
   ]
  },
  {
   "cell_type": "code",
   "execution_count": 76,
   "id": "7816de20-836b-42cd-bd9f-67a40a134497",
   "metadata": {},
   "outputs": [
    {
     "data": {
      "text/plain": [
       "(150, 3)"
      ]
     },
     "metadata": {},
     "output_type": "display_data"
    },
    {
     "data": {
      "text/plain": [
       "(50, 3)"
      ]
     },
     "metadata": {},
     "output_type": "display_data"
    },
    {
     "data": {
      "text/plain": [
       "(150,)"
      ]
     },
     "metadata": {},
     "output_type": "display_data"
    },
    {
     "data": {
      "text/html": [
       "<div>\n",
       "<style scoped>\n",
       "    .dataframe tbody tr th:only-of-type {\n",
       "        vertical-align: middle;\n",
       "    }\n",
       "\n",
       "    .dataframe tbody tr th {\n",
       "        vertical-align: top;\n",
       "    }\n",
       "\n",
       "    .dataframe thead th {\n",
       "        text-align: right;\n",
       "    }\n",
       "</style>\n",
       "<table border=\"1\" class=\"dataframe\">\n",
       "  <thead>\n",
       "    <tr style=\"text-align: right;\">\n",
       "      <th></th>\n",
       "      <th>TV</th>\n",
       "      <th>Radio</th>\n",
       "      <th>Newspaper</th>\n",
       "    </tr>\n",
       "  </thead>\n",
       "  <tbody>\n",
       "    <tr>\n",
       "      <th>178</th>\n",
       "      <td>170.2</td>\n",
       "      <td>7.8</td>\n",
       "      <td>35.2</td>\n",
       "    </tr>\n",
       "    <tr>\n",
       "      <th>175</th>\n",
       "      <td>222.4</td>\n",
       "      <td>3.4</td>\n",
       "      <td>13.1</td>\n",
       "    </tr>\n",
       "    <tr>\n",
       "      <th>81</th>\n",
       "      <td>76.4</td>\n",
       "      <td>26.7</td>\n",
       "      <td>22.3</td>\n",
       "    </tr>\n",
       "    <tr>\n",
       "      <th>185</th>\n",
       "      <td>253.8</td>\n",
       "      <td>21.3</td>\n",
       "      <td>30.0</td>\n",
       "    </tr>\n",
       "    <tr>\n",
       "      <th>144</th>\n",
       "      <td>104.6</td>\n",
       "      <td>5.7</td>\n",
       "      <td>34.4</td>\n",
       "    </tr>\n",
       "  </tbody>\n",
       "</table>\n",
       "</div>"
      ],
      "text/plain": [
       "        TV  Radio  Newspaper\n",
       "178  170.2    7.8       35.2\n",
       "175  222.4    3.4       13.1\n",
       "81    76.4   26.7       22.3\n",
       "185  253.8   21.3       30.0\n",
       "144  104.6    5.7       34.4"
      ]
     },
     "metadata": {},
     "output_type": "display_data"
    }
   ],
   "source": [
    "X = df.copy()\n",
    "y = X.pop('Sales')\n",
    "\n",
    "X_train, X_test, y_train, y_test = train_test_split(X, y, test_size = int(0.25*X.shape[0]))\n",
    "display(X_train.shape, X_test.shape, y_train.shape, X_train.head())"
   ]
  },
  {
   "cell_type": "code",
   "execution_count": 77,
   "id": "b4615ca1-5812-42df-a59b-0dac1ffff695",
   "metadata": {},
   "outputs": [
    {
     "data": {
      "text/plain": [
       "array([16.86895608, 15.29838852, 18.17732333, 13.77149937, 14.40609529,\n",
       "        7.54565846,  8.99365849, 13.2611528 , 12.30609567, 15.12557437,\n",
       "       16.42771236, 19.67550202, 12.48094868, 22.81379733, 14.28181   ,\n",
       "       10.04173904, 15.57961523, 16.91178632, 11.82479669,  9.85942782,\n",
       "        4.64151207, 19.86994865, 12.7945412 , 12.26650927,  8.595083  ,\n",
       "       24.02812727,  8.95817978, 12.22947712,  7.73303415, 20.45901706,\n",
       "       15.73553421, 15.40834413, 12.11477319,  8.56537194, 10.75802754,\n",
       "       11.5079478 , 16.31273614, 14.00017145, 19.25038283,  9.84772732,\n",
       "       19.01952197, 12.87267234, 21.15880065, 20.8223252 , 15.21067676,\n",
       "       15.02493661,  5.92812427, 21.8259092 , 17.13505866,  9.81888067])"
      ]
     },
     "execution_count": 77,
     "metadata": {},
     "output_type": "execute_result"
    }
   ],
   "source": [
    "lm = LinearRegression()\n",
    "lm.fit(X_train, y_train)\n",
    "lm.predict(X_test)"
   ]
  },
  {
   "cell_type": "code",
   "execution_count": 78,
   "id": "424f51c3-9d26-47ea-b789-e61095f7b299",
   "metadata": {},
   "outputs": [
    {
     "data": {
      "text/plain": [
       "array([15.83779  , 13.459683 , 18.72629  , 11.086964 , 14.758293 ,\n",
       "        9.372334 ,  9.985749 , 13.089394 ,  9.820207 , 15.065289 ,\n",
       "       16.03239  , 20.427183 , 13.652114 , 25.215818 , 12.248478 ,\n",
       "       11.241882 , 14.958884 , 18.529953 , 10.176393 , 10.219437 ,\n",
       "        6.3972487, 21.0362   , 11.413168 ,  8.534351 ,  5.9173174,\n",
       "       25.65694  ,  8.57137  , 13.3300705,  7.0051146, 21.932255 ,\n",
       "       12.436969 , 15.106651 , 11.632367 ,  6.26638  , 10.792133 ,\n",
       "        8.9904375, 15.712827 , 13.729531 , 19.502762 , 10.17122  ,\n",
       "       18.953985 , 14.277197 , 22.071259 , 21.014349 , 15.088192 ,\n",
       "       14.290724 ,  8.640151 , 23.947266 , 12.454892 , 10.920994 ],\n",
       "      dtype=float32)"
      ]
     },
     "execution_count": 78,
     "metadata": {},
     "output_type": "execute_result"
    }
   ],
   "source": [
    "xgbm = XGBRegressor(eta=0.1, max_depth=5, subsample=0.6)\n",
    "xgbm.fit(X_train, y_train)\n",
    "xgbm.predict(X_test)"
   ]
  },
  {
   "cell_type": "code",
   "execution_count": 79,
   "id": "69d45757-f8c5-4c05-9187-668a8403ff3d",
   "metadata": {},
   "outputs": [
    {
     "name": "stdout",
     "output_type": "stream",
     "text": [
      "In sample\n",
      "0.8932791179514303 0.9993460255555223\n",
      "Out of sample\n",
      "0.9086737022071478 0.9887219573972387\n"
     ]
    }
   ],
   "source": [
    "print('In sample')\n",
    "print(r2_score(y_train, lm.predict(X_train)), r2_score(y_train, xgbm.predict(X_train)))\n",
    "print('Out of sample')\n",
    "print(r2_score(y_test, lm.predict(X_test)), r2_score(y_test, xgbm.predict(X_test)))"
   ]
  },
  {
   "cell_type": "code",
   "execution_count": null,
   "id": "91193ba2-ee5e-43ea-b767-763a0d781c62",
   "metadata": {},
   "outputs": [],
   "source": []
  },
  {
   "cell_type": "code",
   "execution_count": null,
   "id": "d12c3535-bbbb-41a6-8e45-4f133e54b990",
   "metadata": {},
   "outputs": [],
   "source": []
  },
  {
   "cell_type": "code",
   "execution_count": 83,
   "id": "e93a67de-647c-4994-b15a-72442e262314",
   "metadata": {},
   "outputs": [],
   "source": [
    "os.chdir('/home/jupyter/projects_gcp_cpu/sales_budget')\n",
    "artifact_filename_lm = 'lr_model.pkl'\n",
    "joblib.dump(lm, artifact_filename_lm)\n",
    "\n",
    "artifact_filename_xgb = 'xgb_model.json'\n",
    "xgbm.save_model(artifact_filename_xgb)"
   ]
  },
  {
   "cell_type": "code",
   "execution_count": 81,
   "id": "7e7c700d-5970-4a7e-99ba-6e2a965983d8",
   "metadata": {},
   "outputs": [],
   "source": [
    "model_bucket = 'gs://pmykola-projectsgcp-artifacts/sales-budget'\n",
    "storage_path = os.path.join(model_bucket, artifact_filename_lm)\n",
    "blob = storage.blob.Blob.from_string(storage_path, client=storage.Client(project=project_id))\n",
    "blob.upload_from_filename(os.getcwd()+'/'+artifact_filename_lm)"
   ]
  },
  {
   "cell_type": "code",
   "execution_count": 84,
   "id": "a40fa547-7b2c-42dc-aecb-3da218d5a236",
   "metadata": {},
   "outputs": [],
   "source": [
    "model_bucket = 'gs://pmykola-projectsgcp-artifacts/sales-budget'\n",
    "storage_path = os.path.join(model_bucket, artifact_filename_xgb)\n",
    "blob = storage.blob.Blob.from_string(storage_path, client=storage.Client(project=project_id))\n",
    "blob.upload_from_filename(os.getcwd()+'/'+artifact_filename_xgb)"
   ]
  },
  {
   "cell_type": "code",
   "execution_count": null,
   "id": "61455bb8-de50-44e4-9923-5c38ab9ce480",
   "metadata": {},
   "outputs": [],
   "source": []
  },
  {
   "cell_type": "code",
   "execution_count": null,
   "id": "e883655a-d277-4308-a2bc-e666ada1eb2c",
   "metadata": {},
   "outputs": [],
   "source": []
  },
  {
   "cell_type": "code",
   "execution_count": 86,
   "id": "feff6ac2-ea76-416a-b829-7175712d5dd7",
   "metadata": {},
   "outputs": [
    {
     "name": "stdout",
     "output_type": "stream",
     "text": [
      "lm [21.31368595]\n",
      "xgb [21.048143]\n"
     ]
    },
    {
     "name": "stderr",
     "output_type": "stream",
     "text": [
      "/opt/conda/lib/python3.7/site-packages/ipykernel_launcher.py:2: DeprecationWarning: `np.float` is a deprecated alias for the builtin `float`. To silence this warning, use `float` by itself. Doing this will not modify any behavior and is safe. If you specifically wanted the numpy scalar type, use `np.float64` here.\n",
      "Deprecated in NumPy 1.20; for more details and guidance: https://numpy.org/devdocs/release/1.20.0-notes.html#deprecations\n",
      "  \n",
      "/opt/conda/lib/python3.7/site-packages/sklearn/base.py:451: UserWarning: X does not have valid feature names, but LinearRegression was fitted with feature names\n",
      "  \"X does not have valid feature names, but\"\n"
     ]
    }
   ],
   "source": [
    "test_data = [159.1, 60.2, 90]\n",
    "test_data = np.array(test_data).astype(np.float)\n",
    "test_data = test_data.reshape(1,-1)\n",
    "test_data\n",
    "\n",
    "filePath = 'lr_model.pkl'\n",
    "file = open(filePath, \"rb\")\n",
    "trained_model = joblib.load(file)\n",
    "prediction = trained_model.predict(test_data)\n",
    "print('lm', prediction)\n",
    "\n",
    "trained_model = XGBRegressor()\n",
    "trained_model.load_model(artifact_filename_xgb)\n",
    "prediction = trained_model.predict(test_data)\n",
    "print('xgb', prediction)\n"
   ]
  },
  {
   "cell_type": "code",
   "execution_count": 89,
   "id": "278c9997-b8c7-4863-8191-f778573543eb",
   "metadata": {},
   "outputs": [
    {
     "data": {
      "text/plain": [
       "'1.6.2'"
      ]
     },
     "execution_count": 89,
     "metadata": {},
     "output_type": "execute_result"
    }
   ],
   "source": [
    "import xgboost\n",
    "xgboost.__version__"
   ]
  },
  {
   "cell_type": "code",
   "execution_count": null,
   "id": "f1b99efd-bab6-4fc6-a701-bc640f898b15",
   "metadata": {},
   "outputs": [],
   "source": []
  },
  {
   "cell_type": "code",
   "execution_count": null,
   "id": "23b19cb6-e765-47b5-97cc-857c67cdee8d",
   "metadata": {},
   "outputs": [],
   "source": []
  },
  {
   "cell_type": "code",
   "execution_count": null,
   "id": "b9b84157-6300-4691-a3a2-a1c5e75995a9",
   "metadata": {},
   "outputs": [],
   "source": []
  },
  {
   "cell_type": "code",
   "execution_count": null,
   "id": "d9f2a63e-09c4-4a88-869e-81111224b006",
   "metadata": {},
   "outputs": [],
   "source": []
  },
  {
   "cell_type": "code",
   "execution_count": null,
   "id": "579af8cc-f4be-46cd-b3c5-ff15a2f46459",
   "metadata": {},
   "outputs": [],
   "source": []
  },
  {
   "cell_type": "code",
   "execution_count": null,
   "id": "c5c1b908-8732-4a5a-ba5c-34b22ee4beef",
   "metadata": {},
   "outputs": [],
   "source": []
  },
  {
   "cell_type": "code",
   "execution_count": null,
   "id": "449f9bb6-32cb-4d57-86e7-81c48705da55",
   "metadata": {},
   "outputs": [],
   "source": []
  }
 ],
 "metadata": {
  "environment": {
   "kernel": "python3",
   "name": "common-cpu.m100",
   "type": "gcloud",
   "uri": "gcr.io/deeplearning-platform-release/base-cpu:m100"
  },
  "kernelspec": {
   "display_name": "Python 3",
   "language": "python",
   "name": "python3"
  },
  "language_info": {
   "codemirror_mode": {
    "name": "ipython",
    "version": 3
   },
   "file_extension": ".py",
   "mimetype": "text/x-python",
   "name": "python",
   "nbconvert_exporter": "python",
   "pygments_lexer": "ipython3",
   "version": "3.7.12"
  }
 },
 "nbformat": 4,
 "nbformat_minor": 5
}
