{
 "cells": [
  {
   "cell_type": "code",
   "execution_count": 1,
   "id": "18c39096-2b71-495b-a6cc-77a42b88aa28",
   "metadata": {},
   "outputs": [
    {
     "data": {
      "text/plain": [
       "(200, 4)"
      ]
     },
     "metadata": {},
     "output_type": "display_data"
    },
    {
     "data": {
      "text/html": [
       "<div>\n",
       "<style scoped>\n",
       "    .dataframe tbody tr th:only-of-type {\n",
       "        vertical-align: middle;\n",
       "    }\n",
       "\n",
       "    .dataframe tbody tr th {\n",
       "        vertical-align: top;\n",
       "    }\n",
       "\n",
       "    .dataframe thead th {\n",
       "        text-align: right;\n",
       "    }\n",
       "</style>\n",
       "<table border=\"1\" class=\"dataframe\">\n",
       "  <thead>\n",
       "    <tr style=\"text-align: right;\">\n",
       "      <th></th>\n",
       "      <th>TV</th>\n",
       "      <th>Radio</th>\n",
       "      <th>Newspaper</th>\n",
       "      <th>Sales</th>\n",
       "    </tr>\n",
       "  </thead>\n",
       "  <tbody>\n",
       "    <tr>\n",
       "      <th>1</th>\n",
       "      <td>230.1</td>\n",
       "      <td>37.8</td>\n",
       "      <td>69.2</td>\n",
       "      <td>22.1</td>\n",
       "    </tr>\n",
       "    <tr>\n",
       "      <th>2</th>\n",
       "      <td>44.5</td>\n",
       "      <td>39.3</td>\n",
       "      <td>45.1</td>\n",
       "      <td>10.4</td>\n",
       "    </tr>\n",
       "    <tr>\n",
       "      <th>3</th>\n",
       "      <td>17.2</td>\n",
       "      <td>45.9</td>\n",
       "      <td>69.3</td>\n",
       "      <td>9.3</td>\n",
       "    </tr>\n",
       "    <tr>\n",
       "      <th>4</th>\n",
       "      <td>151.5</td>\n",
       "      <td>41.3</td>\n",
       "      <td>58.5</td>\n",
       "      <td>18.5</td>\n",
       "    </tr>\n",
       "    <tr>\n",
       "      <th>5</th>\n",
       "      <td>180.8</td>\n",
       "      <td>10.8</td>\n",
       "      <td>58.4</td>\n",
       "      <td>12.9</td>\n",
       "    </tr>\n",
       "  </tbody>\n",
       "</table>\n",
       "</div>"
      ],
      "text/plain": [
       "      TV  Radio  Newspaper  Sales\n",
       "1  230.1   37.8       69.2   22.1\n",
       "2   44.5   39.3       45.1   10.4\n",
       "3   17.2   45.9       69.3    9.3\n",
       "4  151.5   41.3       58.5   18.5\n",
       "5  180.8   10.8       58.4   12.9"
      ]
     },
     "metadata": {},
     "output_type": "display_data"
    }
   ],
   "source": [
    "import os\n",
    "import joblib\n",
    "import pickle\n",
    "import pandas as pd\n",
    "import numpy as np\n",
    "from sklearn.linear_model import LinearRegression\n",
    "from sklearn.model_selection import train_test_split\n",
    "from sklearn.metrics import r2_score, mean_squared_error\n",
    "from google.cloud import bigquery, storage\n",
    "from xgboost import XGBRegressor\n",
    "\n",
    "os.chdir('/home/jupyter/projects_data/sales_budget')\n",
    "\n",
    "project_id = 'valid-heuristic-369117'\n",
    "\n",
    "df = pd.read_csv('Advertising.csv', index_col=[0])\n",
    "display(df.shape, df.head())"
   ]
  },
  {
   "cell_type": "code",
   "execution_count": 2,
   "id": "7816de20-836b-42cd-bd9f-67a40a134497",
   "metadata": {},
   "outputs": [
    {
     "data": {
      "text/plain": [
       "(150, 3)"
      ]
     },
     "metadata": {},
     "output_type": "display_data"
    },
    {
     "data": {
      "text/plain": [
       "(50, 3)"
      ]
     },
     "metadata": {},
     "output_type": "display_data"
    },
    {
     "data": {
      "text/plain": [
       "(150,)"
      ]
     },
     "metadata": {},
     "output_type": "display_data"
    },
    {
     "data": {
      "text/html": [
       "<div>\n",
       "<style scoped>\n",
       "    .dataframe tbody tr th:only-of-type {\n",
       "        vertical-align: middle;\n",
       "    }\n",
       "\n",
       "    .dataframe tbody tr th {\n",
       "        vertical-align: top;\n",
       "    }\n",
       "\n",
       "    .dataframe thead th {\n",
       "        text-align: right;\n",
       "    }\n",
       "</style>\n",
       "<table border=\"1\" class=\"dataframe\">\n",
       "  <thead>\n",
       "    <tr style=\"text-align: right;\">\n",
       "      <th></th>\n",
       "      <th>TV</th>\n",
       "      <th>Radio</th>\n",
       "      <th>Newspaper</th>\n",
       "    </tr>\n",
       "  </thead>\n",
       "  <tbody>\n",
       "    <tr>\n",
       "      <th>35</th>\n",
       "      <td>95.7</td>\n",
       "      <td>1.4</td>\n",
       "      <td>7.4</td>\n",
       "    </tr>\n",
       "    <tr>\n",
       "      <th>72</th>\n",
       "      <td>109.8</td>\n",
       "      <td>14.3</td>\n",
       "      <td>31.7</td>\n",
       "    </tr>\n",
       "    <tr>\n",
       "      <th>173</th>\n",
       "      <td>19.6</td>\n",
       "      <td>20.1</td>\n",
       "      <td>17.0</td>\n",
       "    </tr>\n",
       "    <tr>\n",
       "      <th>145</th>\n",
       "      <td>96.2</td>\n",
       "      <td>14.8</td>\n",
       "      <td>38.9</td>\n",
       "    </tr>\n",
       "    <tr>\n",
       "      <th>181</th>\n",
       "      <td>156.6</td>\n",
       "      <td>2.6</td>\n",
       "      <td>8.3</td>\n",
       "    </tr>\n",
       "  </tbody>\n",
       "</table>\n",
       "</div>"
      ],
      "text/plain": [
       "        TV  Radio  Newspaper\n",
       "35    95.7    1.4        7.4\n",
       "72   109.8   14.3       31.7\n",
       "173   19.6   20.1       17.0\n",
       "145   96.2   14.8       38.9\n",
       "181  156.6    2.6        8.3"
      ]
     },
     "metadata": {},
     "output_type": "display_data"
    }
   ],
   "source": [
    "X = df.copy()\n",
    "y = X.pop('Sales')\n",
    "\n",
    "X_train, X_test, y_train, y_test = train_test_split(X, y, test_size = int(0.25*X.shape[0]))\n",
    "display(X_train.shape, X_test.shape, y_train.shape, X_train.head())"
   ]
  },
  {
   "cell_type": "code",
   "execution_count": 3,
   "id": "b4615ca1-5812-42df-a59b-0dac1ffff695",
   "metadata": {},
   "outputs": [
    {
     "data": {
      "text/plain": [
       "array([ 6.31993695,  9.94336236, 12.15814505, 21.18928245, 17.28629955,\n",
       "       18.25203448, 18.19640551,  9.95243515, 15.09120348, 20.73819586,\n",
       "       20.34545299, 12.25756158, 16.48441597, 17.38818168, 14.52544995,\n",
       "       15.48044595, 14.08803788, 18.92037569, 20.63734031, 24.14352823,\n",
       "        5.47380599, 19.32984346,  4.72826597, 14.29492732, 12.6499803 ,\n",
       "       15.97590893, 10.73759922, 18.73580674, 23.36613185, 15.56557916,\n",
       "       13.69852487, 16.87902173, 18.41728609, 12.29666963, 14.50499392,\n",
       "       15.98959144, 16.57790548, 14.40558085,  6.22819974, 19.22499512,\n",
       "       11.80732031, 14.28060873, 15.39676294, 18.49640029, 13.86401812,\n",
       "       17.33644639,  6.95635873, 13.99689334, 11.64089067,  6.63663245])"
      ]
     },
     "execution_count": 3,
     "metadata": {},
     "output_type": "execute_result"
    }
   ],
   "source": [
    "lm = LinearRegression()\n",
    "lm.fit(X_train, y_train)\n",
    "lm.predict(X_test)"
   ]
  },
  {
   "cell_type": "code",
   "execution_count": 4,
   "id": "424f51c3-9d26-47ea-b789-e61095f7b299",
   "metadata": {},
   "outputs": [
    {
     "data": {
      "text/plain": [
       "array([ 7.9519887, 11.126699 ,  9.121286 , 22.554003 , 15.330488 ,\n",
       "       15.39732  , 18.89791  ,  9.85052  , 13.028841 , 22.763586 ,\n",
       "       20.957296 , 10.907264 , 16.145878 , 12.976828 , 14.861608 ,\n",
       "       13.28401  , 13.810883 , 16.259327 , 22.607218 , 25.491957 ,\n",
       "        4.450262 , 20.01592  ,  6.5037932, 14.299456 , 12.419514 ,\n",
       "       12.059183 ,  8.423335 , 17.474552 , 24.433163 , 15.99235  ,\n",
       "       12.30582  , 18.24088  , 19.829275 ,  7.3567443, 14.473753 ,\n",
       "       12.274988 , 16.06165  , 13.783503 ,  7.238706 , 19.804949 ,\n",
       "       11.746248 , 15.317836 , 14.792433 , 19.700937 , 14.698485 ,\n",
       "       17.518156 ,  7.4104123, 11.256359 , 11.958614 ,  5.8302426],\n",
       "      dtype=float32)"
      ]
     },
     "execution_count": 4,
     "metadata": {},
     "output_type": "execute_result"
    }
   ],
   "source": [
    "xgbm = XGBRegressor(eta=0.1, max_depth=5, subsample=0.6)\n",
    "xgbm.fit(X_train, y_train)\n",
    "xgbm.predict(X_test)"
   ]
  },
  {
   "cell_type": "code",
   "execution_count": 5,
   "id": "69d45757-f8c5-4c05-9187-668a8403ff3d",
   "metadata": {},
   "outputs": [
    {
     "name": "stdout",
     "output_type": "stream",
     "text": [
      "In sample\n",
      "0.9027396078925684 0.9993679804432034\n",
      "Out of sample\n",
      "0.8736482557069646 0.9868609494525639\n"
     ]
    }
   ],
   "source": [
    "print('In sample')\n",
    "print(r2_score(y_train, lm.predict(X_train)), r2_score(y_train, xgbm.predict(X_train)))\n",
    "print('Out of sample')\n",
    "print(r2_score(y_test, lm.predict(X_test)), r2_score(y_test, xgbm.predict(X_test)))"
   ]
  },
  {
   "cell_type": "code",
   "execution_count": null,
   "id": "91193ba2-ee5e-43ea-b767-763a0d781c62",
   "metadata": {},
   "outputs": [],
   "source": []
  },
  {
   "cell_type": "code",
   "execution_count": null,
   "id": "d12c3535-bbbb-41a6-8e45-4f133e54b990",
   "metadata": {},
   "outputs": [],
   "source": []
  },
  {
   "cell_type": "code",
   "execution_count": 6,
   "id": "e93a67de-647c-4994-b15a-72442e262314",
   "metadata": {},
   "outputs": [],
   "source": [
    "os.chdir('/home/jupyter/project_repos/pg_sales_budget/sales-app')\n",
    "artifact_filename_lm = 'lr_model.pkl'\n",
    "joblib.dump(lm, artifact_filename_lm)\n",
    "\n",
    "artifact_filename_xgb = 'xgb_model.json'\n",
    "xgbm.save_model(artifact_filename_xgb)"
   ]
  },
  {
   "cell_type": "code",
   "execution_count": 7,
   "id": "7e7c700d-5970-4a7e-99ba-6e2a965983d8",
   "metadata": {},
   "outputs": [],
   "source": [
    "model_bucket = 'gs://pmykola-projectsgcp-artifacts/sales-budget'\n",
    "storage_path = os.path.join(model_bucket, artifact_filename_lm)\n",
    "blob = storage.blob.Blob.from_string(storage_path, client=storage.Client(project=project_id))\n",
    "blob.upload_from_filename(os.getcwd()+'/'+artifact_filename_lm)"
   ]
  },
  {
   "cell_type": "code",
   "execution_count": 8,
   "id": "a40fa547-7b2c-42dc-aecb-3da218d5a236",
   "metadata": {},
   "outputs": [],
   "source": [
    "model_bucket = 'gs://pmykola-projectsgcp-artifacts/sales-budget'\n",
    "storage_path = os.path.join(model_bucket, artifact_filename_xgb)\n",
    "blob = storage.blob.Blob.from_string(storage_path, client=storage.Client(project=project_id))\n",
    "blob.upload_from_filename(os.getcwd()+'/'+artifact_filename_xgb)"
   ]
  },
  {
   "cell_type": "code",
   "execution_count": null,
   "id": "61455bb8-de50-44e4-9923-5c38ab9ce480",
   "metadata": {},
   "outputs": [],
   "source": []
  },
  {
   "cell_type": "code",
   "execution_count": null,
   "id": "e883655a-d277-4308-a2bc-e666ada1eb2c",
   "metadata": {},
   "outputs": [],
   "source": []
  },
  {
   "cell_type": "code",
   "execution_count": 9,
   "id": "feff6ac2-ea76-416a-b829-7175712d5dd7",
   "metadata": {},
   "outputs": [
    {
     "name": "stdout",
     "output_type": "stream",
     "text": [
      "lm [21.25726952]\n",
      "xgb [20.073584]\n"
     ]
    },
    {
     "name": "stderr",
     "output_type": "stream",
     "text": [
      "/opt/conda/lib/python3.7/site-packages/ipykernel_launcher.py:2: DeprecationWarning: `np.float` is a deprecated alias for the builtin `float`. To silence this warning, use `float` by itself. Doing this will not modify any behavior and is safe. If you specifically wanted the numpy scalar type, use `np.float64` here.\n",
      "Deprecated in NumPy 1.20; for more details and guidance: https://numpy.org/devdocs/release/1.20.0-notes.html#deprecations\n",
      "  \n",
      "/opt/conda/lib/python3.7/site-packages/sklearn/base.py:451: UserWarning: X does not have valid feature names, but LinearRegression was fitted with feature names\n",
      "  \"X does not have valid feature names, but\"\n"
     ]
    }
   ],
   "source": [
    "test_data = [159.1, 60.2, 90]\n",
    "test_data = np.array(test_data).astype(np.float)\n",
    "test_data = test_data.reshape(1,-1)\n",
    "test_data\n",
    "\n",
    "filePath = 'lr_model.pkl'\n",
    "file = open(filePath, \"rb\")\n",
    "trained_model = joblib.load(file)\n",
    "prediction = trained_model.predict(test_data)\n",
    "print('lm', prediction)\n",
    "\n",
    "trained_model = XGBRegressor()\n",
    "trained_model.load_model(artifact_filename_xgb)\n",
    "prediction = trained_model.predict(test_data)\n",
    "print('xgb', prediction)\n"
   ]
  },
  {
   "cell_type": "code",
   "execution_count": 10,
   "id": "278c9997-b8c7-4863-8191-f778573543eb",
   "metadata": {},
   "outputs": [
    {
     "data": {
      "text/plain": [
       "'1.6.2'"
      ]
     },
     "execution_count": 10,
     "metadata": {},
     "output_type": "execute_result"
    }
   ],
   "source": [
    "import xgboost\n",
    "xgboost.__version__"
   ]
  },
  {
   "cell_type": "code",
   "execution_count": null,
   "id": "f1b99efd-bab6-4fc6-a701-bc640f898b15",
   "metadata": {},
   "outputs": [],
   "source": []
  },
  {
   "cell_type": "code",
   "execution_count": null,
   "id": "23b19cb6-e765-47b5-97cc-857c67cdee8d",
   "metadata": {},
   "outputs": [],
   "source": []
  },
  {
   "cell_type": "code",
   "execution_count": null,
   "id": "b9b84157-6300-4691-a3a2-a1c5e75995a9",
   "metadata": {},
   "outputs": [],
   "source": []
  },
  {
   "cell_type": "code",
   "execution_count": null,
   "id": "d9f2a63e-09c4-4a88-869e-81111224b006",
   "metadata": {},
   "outputs": [],
   "source": []
  },
  {
   "cell_type": "code",
   "execution_count": null,
   "id": "579af8cc-f4be-46cd-b3c5-ff15a2f46459",
   "metadata": {},
   "outputs": [],
   "source": []
  },
  {
   "cell_type": "code",
   "execution_count": null,
   "id": "c5c1b908-8732-4a5a-ba5c-34b22ee4beef",
   "metadata": {},
   "outputs": [],
   "source": []
  },
  {
   "cell_type": "code",
   "execution_count": null,
   "id": "449f9bb6-32cb-4d57-86e7-81c48705da55",
   "metadata": {},
   "outputs": [],
   "source": []
  }
 ],
 "metadata": {
  "environment": {
   "kernel": "python3",
   "name": "common-cpu.m100",
   "type": "gcloud",
   "uri": "gcr.io/deeplearning-platform-release/base-cpu:m100"
  },
  "kernelspec": {
   "display_name": "Python 3",
   "language": "python",
   "name": "python3"
  },
  "language_info": {
   "codemirror_mode": {
    "name": "ipython",
    "version": 3
   },
   "file_extension": ".py",
   "mimetype": "text/x-python",
   "name": "python",
   "nbconvert_exporter": "python",
   "pygments_lexer": "ipython3",
   "version": "3.7.12"
  }
 },
 "nbformat": 4,
 "nbformat_minor": 5
}
